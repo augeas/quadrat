{
 "cells": [
  {
   "cell_type": "code",
   "execution_count": null,
   "id": "057eab39-9399-48e1-b722-fb3921629354",
   "metadata": {},
   "outputs": [],
   "source": [
    "# Parameters:\n",
    "name = 'IJVGCSOXLHJT'"
   ]
  },
  {
   "cell_type": "markdown",
   "id": "0916f536-f224-410b-a87d-7ffa1ab132f9",
   "metadata": {},
   "source": [
    "#### This notebook is *supposed* to auto-run. If it does not, reload the page.\n",
    "### Shortly, (*eventually*) an image and an mp3 download link should appear..."
   ]
  },
  {
   "cell_type": "code",
   "execution_count": null,
   "id": "9066b4be-8274-47a4-ae9c-b684c256db1e",
   "metadata": {
    "scrolled": true
   },
   "outputs": [],
   "source": [
    "from quadrat.nb_app import nb_image_render, nb_audio_render"
   ]
  },
  {
   "cell_type": "code",
   "execution_count": null,
   "id": "bee82f9a-138f-4426-8e29-73284d3c4ece",
   "metadata": {},
   "outputs": [],
   "source": [
    "size = 600\n",
    "fft_size = 8192\n",
    "hop_size = 2048\n",
    "fft_points = 1024"
   ]
  },
  {
   "cell_type": "code",
   "execution_count": null,
   "id": "ff8a3446-524e-48b3-b739-cea2b7f3252b",
   "metadata": {
    "scrolled": true
   },
   "outputs": [],
   "source": [
    "image = nb_image_render(name, size)"
   ]
  },
  {
   "cell_type": "code",
   "execution_count": null,
   "id": "3f7cc9e4-7e37-4b6d-ace8-7f191026755c",
   "metadata": {
    "scrolled": true
   },
   "outputs": [],
   "source": [
    "nb_audio_render(image, fft_size, hop_size, fft_points)"
   ]
  },
  {
   "cell_type": "markdown",
   "id": "23feb9fd-eca3-4aa7-87bb-65133f7ec088",
   "metadata": {},
   "source": [
    "### Visit the [repo](https://github.com/augeas/quadrat) to find out more..."
   ]
  }
 ],
 "metadata": {
  "kernelspec": {
   "display_name": "Python 3 (ipykernel)",
   "language": "python",
   "name": "python3"
  },
  "language_info": {
   "codemirror_mode": {
    "name": "ipython",
    "version": 3
   },
   "file_extension": ".py",
   "mimetype": "text/x-python",
   "name": "python",
   "nbconvert_exporter": "python",
   "pygments_lexer": "ipython3",
   "version": "3.12.3"
  }
 },
 "nbformat": 4,
 "nbformat_minor": 5
}
