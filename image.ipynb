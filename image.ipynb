{
 "cells": [
  {
   "cell_type": "code",
   "execution_count": null,
   "id": "057eab39-9399-48e1-b722-fb3921629354",
   "metadata": {},
   "outputs": [],
   "source": [
    "# Parameters:\n",
    "name = 'IJVGCSOXLHJT'"
   ]
  },
  {
   "cell_type": "markdown",
   "id": "0916f536-f224-410b-a87d-7ffa1ab132f9",
   "metadata": {},
   "source": [
    "### Shortly, an image and an mp3 download link should appear..."
   ]
  },
  {
   "cell_type": "code",
   "execution_count": null,
   "id": "9066b4be-8274-47a4-ae9c-b684c256db1e",
   "metadata": {
    "scrolled": true
   },
   "outputs": [],
   "source": [
    "import os\n",
    "from IPython.display import display, Audio, FileLink\n",
    "from quadrat.nb_app import inflate_img, render_track, inflate_search\n",
    "from quadrat.quadtorch import iter_search, render_img"
   ]
  },
  {
   "cell_type": "code",
   "execution_count": null,
   "id": "bee82f9a-138f-4426-8e29-73284d3c4ece",
   "metadata": {},
   "outputs": [],
   "source": [
    "size = 600\n",
    "fft_size = 8192\n",
    "hop_size = 2048\n",
    "fft_points = 1024"
   ]
  },
  {
   "cell_type": "code",
   "execution_count": null,
   "id": "ff8a3446-524e-48b3-b739-cea2b7f3252b",
   "metadata": {
    "scrolled": true
   },
   "outputs": [],
   "source": [
    "image = inflate_img(name, size=size, points=int(size * size * 0.625))\n",
    "png = render_img(image['img'].reshape(size, size))\n",
    "display(png)\n",
    "os.mkdir(name)\n",
    "png.save('/'.join((name, '{}.png'.format(name))))"
   ]
  },
  {
   "cell_type": "code",
   "execution_count": null,
   "id": "3f7cc9e4-7e37-4b6d-ace8-7f191026755c",
   "metadata": {},
   "outputs": [],
   "source": [
    "audio_file = render_track(image, fft_size=fft_size, hop_size=hop_size, fft_points=fft_points)\n",
    "display(FileLink(audio_file))"
   ]
  },
  {
   "cell_type": "code",
   "execution_count": null,
   "id": "6de6a7ef-395a-47a0-8b5c-b67f4a4cfdd8",
   "metadata": {},
   "outputs": [],
   "source": [
    "display(Audio(filename=audio_file, rate=441000))"
   ]
  },
  {
   "cell_type": "code",
   "execution_count": null,
   "id": "a350c066-dee8-4079-b1a3-b10016f5f94f",
   "metadata": {},
   "outputs": [],
   "source": [
    "print('Lyapunov exponent: {}'.format(image['lyap']))\n",
    "print('correlation dimension: {}'.format(image['dim']))"
   ]
  },
  {
   "cell_type": "markdown",
   "id": "23feb9fd-eca3-4aa7-87bb-65133f7ec088",
   "metadata": {},
   "source": [
    "### Visit the [repo](https://github.com/augeas/quadrat) to find out more..."
   ]
  },
  {
   "cell_type": "code",
   "execution_count": null,
   "id": "5bb32160-e519-4cde-985f-3235e6c6b5ac",
   "metadata": {},
   "outputs": [],
   "source": []
  }
 ],
 "metadata": {
  "kernelspec": {
   "display_name": "Python 3 (ipykernel)",
   "language": "python",
   "name": "python3"
  },
  "language_info": {
   "codemirror_mode": {
    "name": "ipython",
    "version": 3
   },
   "file_extension": ".py",
   "mimetype": "text/x-python",
   "name": "python",
   "nbconvert_exporter": "python",
   "pygments_lexer": "ipython3",
   "version": "3.11.3"
  }
 },
 "nbformat": 4,
 "nbformat_minor": 5
}
