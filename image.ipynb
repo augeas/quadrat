{
 "cells": [
  {
   "cell_type": "code",
   "execution_count": null,
   "id": "057eab39-9399-48e1-b722-fb3921629354",
   "metadata": {},
   "outputs": [],
   "source": [
    "# Parameters:\n",
    "name = None"
   ]
  },
  {
   "cell_type": "markdown",
   "id": "0916f536-f224-410b-a87d-7ffa1ab132f9",
   "metadata": {},
   "source": [
    "### Shortly, an mp3 download link should appear:\n",
    "(Then, visit the [repo](https://github.com/augeas/quadrat) to find out more...)"
   ]
  },
  {
   "cell_type": "code",
   "execution_count": null,
   "id": "ff8a3446-524e-48b3-b739-cea2b7f3252b",
   "metadata": {
    "scrolled": true
   },
   "outputs": [],
   "source": [
    "from quadrat.nb_app import SingleImageApp\n",
    "app = SingleImageApp(name, mobile=True)\n",
    "app.show()"
   ]
  }
 ],
 "metadata": {
  "kernelspec": {
   "display_name": "Python 3 (ipykernel)",
   "language": "python",
   "name": "python3"
  },
  "language_info": {
   "codemirror_mode": {
    "name": "ipython",
    "version": 3
   },
   "file_extension": ".py",
   "mimetype": "text/x-python",
   "name": "python",
   "nbconvert_exporter": "python",
   "pygments_lexer": "ipython3",
   "version": "3.11.3"
  }
 },
 "nbformat": 4,
 "nbformat_minor": 5
}
