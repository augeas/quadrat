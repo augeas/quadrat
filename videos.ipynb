{
 "cells": [
  {
   "cell_type": "code",
   "execution_count": null,
   "id": "2d54517c-1b22-4ac2-bae5-c10a9ddbca85",
   "metadata": {},
   "outputs": [],
   "source": [
    "from quadrat import quadtorch"
   ]
  },
  {
   "cell_type": "code",
   "execution_count": null,
   "id": "c91d9157-ab19-4c0d-9e12-d857c4e6ba60",
   "metadata": {},
   "outputs": [],
   "source": [
    "seq = quadtorch.attractor_seq(5)"
   ]
  },
  {
   "cell_type": "code",
   "execution_count": null,
   "id": "cb0e523f-e8ae-4a72-b90d-e6b0e71efc51",
   "metadata": {},
   "outputs": [],
   "source": [
    "att = seq.__next__()"
   ]
  },
  {
   "cell_type": "code",
   "execution_count": null,
   "id": "e5980ce5-aed5-45a3-89ce-a4217160e4e6",
   "metadata": {},
   "outputs": [],
   "source": [
    "quadtorch.render_video(att)"
   ]
  }
 ],
 "metadata": {
  "kernelspec": {
   "display_name": "Python 3 (ipykernel)",
   "language": "python",
   "name": "python3"
  },
  "language_info": {
   "codemirror_mode": {
    "name": "ipython",
    "version": 3
   },
   "file_extension": ".py",
   "mimetype": "text/x-python",
   "name": "python",
   "nbconvert_exporter": "python",
   "pygments_lexer": "ipython3",
   "version": "3.11.3"
  }
 },
 "nbformat": 4,
 "nbformat_minor": 5
}
